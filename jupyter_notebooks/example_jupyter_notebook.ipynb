{
 "cells": [
  {
   "cell_type": "code",
   "id": "initial_id",
   "metadata": {
    "collapsed": true
   },
   "source": [
    "import os, platform, socket, subprocess, shutil, json, sys\n",
    "\n",
    "def run(cmd):\n",
    "    try:\n",
    "        out = subprocess.run(cmd, stdout=subprocess.PIPE, stderr=subprocess.STDOUT, text=True, check=False)\n",
    "        return out.stdout.strip()\n",
    "    except Exception as e:\n",
    "        return f\"<error running {cmd}: {e}>\"\n",
    "\n",
    "print(\"==== VERIFY WE'RE ON THE SERVER ====\")\n",
    "print(\"Python executable:\", sys.executable)\n",
    "print(\"Hostname        :\", socket.gethostname())\n",
    "print(\"User            :\", run([\"whoami\"]))\n",
    "print()\n",
    "\n",
    "print(\"==== OS / KERNEL ====\")\n",
    "print(run([\"uname\", \"-a\"]))\n",
    "print()\n",
    "\n",
    "print(\"==== CPU ====\")\n",
    "if shutil.which(\"lscpu\"):\n",
    "    print(run([\"lscpu\"]))\n",
    "else:\n",
    "    # Minimal fallback\n",
    "    print(\"Machine:\", platform.machine())\n",
    "    print(\"Processor:\", platform.processor())\n",
    "    print(\"Logical CPUs:\", os.cpu_count())\n",
    "print()\n",
    "\n",
    "print(\"==== MEMORY ====\")\n",
    "if shutil.which(\"free\"):\n",
    "    print(run([\"free\", \"-h\"]))\n",
    "else:\n",
    "    # POSIX fallback (approx)\n",
    "    try:\n",
    "        pages = os.sysconf(\"SC_PHYS_PAGES\")\n",
    "        psize = os.sysconf(\"SC_PAGE_SIZE\")\n",
    "        print(f\"Total RAM: {pages * psize / 1e9:.2f} GB\")\n",
    "    except Exception:\n",
    "        print(\"free not available and sysconf failed.\")\n",
    "print()\n",
    "\n",
    "print(\"==== DISKS ====\")\n",
    "if shutil.which(\"lsblk\"):\n",
    "    print(run([\"lsblk\", \"-o\", \"NAME,SIZE,TYPE,MOUNTPOINT,FSTYPE\"]))\n",
    "else:\n",
    "    print(run([\"df\", \"-h\"]))\n",
    "print()\n",
    "\n",
    "print(\"==== GPU (NVIDIA) ====\")\n",
    "if shutil.which(\"nvidia-smi\"):\n",
    "    print(run([\"nvidia-smi\", \"--query-gpu=index,name,driver_version,memory.total,memory.used\", \"--format=csv,noheader\"]))\n",
    "else:\n",
    "    # Try to at least show PCI devices mentioning NVIDIA/AMD\n",
    "    if shutil.which(\"lspci\"):\n",
    "        lines = run([\"lspci\"]).splitlines()\n",
    "        gpus = [l for l in lines if any(v in l.lower() for v in [\"nvidia\", \"amd\", \"advanced micro devices\", \"radeon\"])]\n",
    "        print(\"\\n\".join(gpus) if gpus else \"No nvidia-smi; lspci found no obvious GPU entries.\")\n",
    "    else:\n",
    "        print(\"No nvidia-smi and lspci not available.\")\n",
    "print()\n",
    "\n",
    "print(\"==== NETWORK ====\")\n",
    "if shutil.which(\"ip\"):\n",
    "    print(run([\"ip\", \"-brief\", \"addr\"]))\n",
    "else:\n",
    "    print(run([\"ifconfig\"]) or \"Neither ip nor ifconfig available.\")"
   ],
   "outputs": [],
   "execution_count": null
  },
  {
   "metadata": {},
   "cell_type": "markdown",
   "source": "# Carla API Voorbeeld",
   "id": "a997c3f5c5c637b7"
  },
  {
   "metadata": {
    "ExecuteTime": {
     "end_time": "2025-10-22T09:43:30.740916Z",
     "start_time": "2025-10-22T09:43:20.619354Z"
    }
   },
   "cell_type": "code",
   "source": [
    "import carla\n",
    "\n",
    "client = carla.Client('localhost', 2000)\n",
    "client.set_timeout(10.0) # seconds\n",
    "world = client.get_world()"
   ],
   "id": "a94270a24d89110e",
   "outputs": [
    {
     "ename": "RuntimeError",
     "evalue": "time-out of 10000ms while waiting for the simulator, make sure the simulator is ready and connected to localhost:2000",
     "output_type": "error",
     "traceback": [
      "\u001B[0;31m---------------------------------------------------------------------------\u001B[0m",
      "\u001B[0;31mRuntimeError\u001B[0m                              Traceback (most recent call last)",
      "Cell \u001B[0;32mIn[1], line 5\u001B[0m\n\u001B[1;32m      3\u001B[0m client \u001B[38;5;241m=\u001B[39m carla\u001B[38;5;241m.\u001B[39mClient(\u001B[38;5;124m'\u001B[39m\u001B[38;5;124mlocalhost\u001B[39m\u001B[38;5;124m'\u001B[39m, \u001B[38;5;241m2000\u001B[39m)\n\u001B[1;32m      4\u001B[0m client\u001B[38;5;241m.\u001B[39mset_timeout(\u001B[38;5;241m10.0\u001B[39m) \u001B[38;5;66;03m# seconds\u001B[39;00m\n\u001B[0;32m----> 5\u001B[0m world \u001B[38;5;241m=\u001B[39m \u001B[43mclient\u001B[49m\u001B[38;5;241;43m.\u001B[39;49m\u001B[43mget_world\u001B[49m\u001B[43m(\u001B[49m\u001B[43m)\u001B[49m\n",
      "\u001B[0;31mRuntimeError\u001B[0m: time-out of 10000ms while waiting for the simulator, make sure the simulator is ready and connected to localhost:2000"
     ]
    }
   ],
   "execution_count": 1
  },
  {
   "metadata": {
    "ExecuteTime": {
     "end_time": "2025-10-22T10:12:52.810544Z",
     "start_time": "2025-10-22T10:12:52.807554Z"
    }
   },
   "cell_type": "code",
   "source": [
    "from simulation.python_3_8_20_scripts.shared_memory_utils import CarlaWrapper\n",
    "\n",
    "camera_width = 640\n",
    "camera_height = 640\n",
    "shared_memory_filepath = \"/dev/shm/carla_shared.dat\"\n",
    "shared_memory = CarlaWrapper(filename=shared_memory_filepath, image_width=camera_width, image_height=camera_height)\n",
    "\n",
    "print(shared_memory.latest_image_index())\n"
   ],
   "id": "625f2f06cd4327b",
   "outputs": [
    {
     "name": "stdout",
     "output_type": "stream",
     "text": [
      "99\n"
     ]
    }
   ],
   "execution_count": 3
  },
  {
   "metadata": {},
   "cell_type": "code",
   "outputs": [],
   "execution_count": null,
   "source": "",
   "id": "c43fef1013f67848"
  }
 ],
 "metadata": {
  "kernelspec": {
   "display_name": "Python 3",
   "language": "python",
   "name": "python3"
  },
  "language_info": {
   "codemirror_mode": {
    "name": "ipython",
    "version": 2
   },
   "file_extension": ".py",
   "mimetype": "text/x-python",
   "name": "python",
   "nbconvert_exporter": "python",
   "pygments_lexer": "ipython2",
   "version": "2.7.6"
  }
 },
 "nbformat": 4,
 "nbformat_minor": 5
}
