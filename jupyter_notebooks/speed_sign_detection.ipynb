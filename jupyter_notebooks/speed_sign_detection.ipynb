{
 "cells": [
  {
   "metadata": {
    "ExecuteTime": {
     "end_time": "2025-10-30T10:30:54.596377Z",
     "start_time": "2025-10-30T10:30:54.593852Z"
    }
   },
   "cell_type": "code",
   "source": [
    "from PIL import Image\n",
    "import cv2\n",
    "import pytesseract as ocr\n",
    "import matplotlib.pyplot as plt\n",
    "import numpy as np"
   ],
   "id": "34aabfa15cc4fa14",
   "outputs": [],
   "execution_count": 6
  },
  {
   "metadata": {
    "ExecuteTime": {
     "end_time": "2025-10-30T10:30:56.304688Z",
     "start_time": "2025-10-30T10:30:56.263881Z"
    }
   },
   "cell_type": "code",
   "source": [
    "img = cv2.imread(\"/home/s0203301/project/Data/traffic_signs/traffic_sign.jpg\")\n",
    "img = cv2.cvtColor(img, cv2.COLOR_BGR2RGB)\n",
    "im_pil = Image.fromarray(img)\n",
    "\n",
    "plt.imshow(im_pil)\n",
    "plt.axis(\"off\")  # optional: hide axes\n",
    "plt.show()"
   ],
   "id": "242f0e88308d8812",
   "outputs": [
    {
     "data": {
      "text/plain": [
       "<Figure size 640x480 with 1 Axes>"
      ],
      "image/png": "[encoded data removed]"
     },
     "metadata": {},
     "output_type": "display_data"
    }
   ],
   "execution_count": 7
  },
  {
   "metadata": {
    "ExecuteTime": {
     "end_time": "2025-10-30T10:31:57.556118Z",
     "start_time": "2025-10-30T10:31:57.442545Z"
    }
   },
   "cell_type": "code",
   "source": [
    "image = im_pil\n",
    "width,height= image.size\n",
    "\n",
    "image_cv = np.array(image)\n",
    "image_cv = cv2.cvtColor(image_cv, cv2.COLOR_RGB2GRAY)                              # Grayscale\n",
    "image_cv = cv2.convertScaleAbs(image_cv, alpha=1.5, beta=0)                        # Increase contrast\n",
    "# _, image_cv = cv2.threshold(image_cv, 0, 255, cv2.THRESH_BINARY + cv2.THRESH_OTSU) # Binarize (threshold)\n",
    "image_cv = cv2.medianBlur(image_cv, 3)                                             # Denoise or sharpen\n",
    "\n",
    "# Config\n",
    "# psm stands for \"page segmentation method\", the number behind is for the sub-option\n",
    "#   0    Orientation and script detection (OSD) only.\n",
    "#   1    Automatic page segmentation with OSD.\n",
    "#   2    Automatic page segmentation, but no OSD, or OCR.\n",
    "#   3    Fully automatic page segmentation, but no OSD. (Default)\n",
    "#   4    Assume a single column of text of variable sizes.\n",
    "#   5    Assume a single uniform block of vertically aligned text.\n",
    "#   6    Assume a single uniform block of text.\n",
    "#   7    Treat the image as a single text line.\n",
    "#   8    Treat the image as a single word.\n",
    "#   9    Treat the image as a single word in a circle.\n",
    "#  10    Treat the image as a single character.\n",
    "#  11    Sparse text. Find as much text as possible in no particular order.\n",
    "#  12    Sparse text with OSD.\n",
    "#  13    Raw line. Treat the image as a single text line, bypassing hacks that are Tesseract-specific.\n",
    "text = ocr.image_to_string(image_cv, config=\"--psm 6\")\n",
    "print(text)\n",
    "\n",
    "plt.imshow(image_cv)\n",
    "plt.axis(\"off\")  # optional: hide axes\n",
    "plt.show()"
   ],
   "id": "2e8d25fb45718542",
   "outputs": [
    {
     "name": "stdout",
     "output_type": "stream",
     "text": [
      "190)\n",
      "\f\n"
     ]
    },
    {
     "data": {
      "text/plain": [
       "<Figure size 640x480 with 1 Axes>"
      ],
      "image/png": "[encoded data removed]"
     },
     "metadata": {},
     "output_type": "display_data"
    }
   ],
   "execution_count": 10
  },
  {
   "metadata": {
    "ExecuteTime": {
     "end_time": "2025-10-30T11:20:07.764751Z",
     "start_time": "2025-10-30T11:20:07.760431Z"
    }
   },
   "cell_type": "code",
   "source": [
    "test_set = {\n",
    "    \"traffic_sign.jpg\": \"90\",\n",
    "    \"traffic_sign_1.jpg\": \"30\",\n",
    "    \"traffic_sign_2.jpg\": \"30\",\n",
    "    \"traffic_sign_3.jpg\": \"60\",\n",
    "    \"traffic_sign_4.jpg\": \"60\",\n",
    "    \"traffic_sign_5.jpg\": \"30\",\n",
    "    \"traffic_sign_6.jpg\": \"30\",\n",
    "    \"traffic_sign_7.jpg\": \"90\",\n",
    "    \"traffic_sign_8.jpg\": \"90\",\n",
    "    \"traffic_sign_9.jpg\": \"90\",\n",
    "    \"traffic_sign_10.jpg\": \"90\",\n",
    "    \"traffic_sign_11.jpg\": \"90\",\n",
    "    \"traffic_sign_12.jpg\": \"90\",\n",
    "    \"traffic_sign_13.jpg\": \"90\",\n",
    "    \"traffic_sign_14.jpg\": \"90\",\n",
    "    \"traffic_sign_15.jpg\": \"90\",\n",
    "    \"traffic_sign_16.jpg\": \"30\",\n",
    "    \"traffic_sign_17.jpg\": \"30\",\n",
    "    \"traffic_sign_18.jpg\": \"30\",\n",
    "    \"traffic_sign_19.jpg\": \"30\",\n",
    "    \"traffic_sign_20.jpg\": \"30\",\n",
    "    \"traffic_sign_21.jpg\": \"30\",\n",
    "    \"traffic_sign_22.jpg\": \"30\",\n",
    "    \"traffic_sign_23.jpg\": \"30\",\n",
    "    \"traffic_sign_24.jpg\": \"30\",\n",
    "    \"traffic_sign_25.jpg\": \"60\",\n",
    "    \"traffic_sign_26.jpg\": \"60\",\n",
    "    \"traffic_sign_27.jpg\": \"60\",\n",
    "    \"traffic_sign_28.jpg\": \"60\",\n",
    "    \"traffic_sign_29.jpg\": \"60\",\n",
    "    \"traffic_sign_30.jpg\": \"60\",\n",
    "    \"traffic_sign_31.jpg\": \"60\",\n",
    "    \"traffic_sign_32.jpg\": \"60\",\n",
    "    \"traffic_sign_33.jpg\": \"60\",\n",
    "    \"traffic_sign_34.jpg\": \"60\",\n",
    "    \"traffic_sign_35.jpg\": \"stop\",\n",
    "    \"traffic_sign_36.jpg\": \"stop\",\n",
    "    \"traffic_sign_37.jpg\": \"stop\",\n",
    "    \"traffic_sign_38.jpg\": \"stop\",\n",
    "    \"traffic_sign_39.jpg\": \"stop\",\n",
    "    \"traffic_sign_40.jpg\": \"stop\",\n",
    "    \"traffic_sign_41.jpg\": \"stop\",\n",
    "    \"traffic_sign_42.jpg\": \"stop\",\n",
    "    \"traffic_sign_43.jpg\": \"stop\",\n",
    "    \"traffic_sign_44.jpg\": \"stop\",\n",
    "    \"traffic_sign_45.jpg\": \"stop\",\n",
    "    \"traffic_sign_46.jpg\": \"stop\",\n",
    "    \"traffic_sign_47.jpg\": \"stop\",\n",
    "    \"traffic_sign_48.jpg\": \"stop\",\n",
    "    \"traffic_sign_49.jpg\": \"stop\",\n",
    "    \"traffic_sign_50.jpg\": \"stop\",\n",
    "    \"traffic_sign_51.jpg\": \"stop\",\n",
    "    \"traffic_sign_52.jpg\": \"stop\",\n",
    "    \"traffic_sign_53.jpg\": \"stop\",\n",
    "    \"traffic_sign_54.jpg\": \"stop\",\n",
    "    \"traffic_sign_55.jpg\": \"stop\",\n",
    "    \"traffic_sign_56.jpg\": \"stop\",\n",
    "    \"traffic_sign_57.jpg\": \"stop\",\n",
    "    \"traffic_sign_58.jpg\": \"stop\",\n",
    "    \"traffic_sign_59.jpg\": \"stop\",\n",
    "    \"traffic_sign_60.jpg\": \"stop\",\n",
    "    \"traffic_sign_61.jpg\": \"stop\",\n",
    "    \"traffic_sign_62.jpg\": \"stop\",\n",
    "    \"traffic_sign_63.jpg\": \"stop\",\n",
    "    \"traffic_sign_64.jpg\": \"stop\",\n",
    "    \"traffic_sign_65.jpg\": \"stop\",\n",
    "    \"traffic_sign_66.jpg\": \"stop\",\n",
    "    \"traffic_sign_67.jpg\": \"stop\",\n",
    "    \"traffic_sign_68.jpg\": \"stop\",\n",
    "    \"traffic_sign_69.jpg\": \"stop\",\n",
    "    \"traffic_sign_70.jpg\": \"stop\",\n",
    "    \"traffic_sign_71.jpg\": \"stop\",\n",
    "    \"traffic_sign_72.jpg\": \"stop\",\n",
    "    \"traffic_sign_73.jpg\": \"stop\",\n",
    "    \"traffic_sign_74.jpg\": \"stop\",\n",
    "    \"traffic_sign_75.jpg\": \"30\",\n",
    "    \"traffic_sign_76.jpg\": \"30\",\n",
    "    \"traffic_sign_77.jpg\": \"30\",\n",
    "    \"traffic_sign_78.jpg\": \"30\",\n",
    "    \"traffic_sign_79.jpg\": \"30\",\n",
    "    \"traffic_sign_80.jpg\": \"30\",\n",
    "    \"traffic_sign_81.jpg\": \"30\",\n",
    "    \"traffic_sign_82.jpg\": \"30\",\n",
    "    \"traffic_sign_83.jpg\": \"30\",\n",
    "    \"traffic_sign_84.jpg\": \"30\",\n",
    "    \"traffic_sign_85.jpg\": \"30\",\n",
    "    \"traffic_sign_86.jpg\": \"30\",\n",
    "    \"traffic_sign_89.jpg\": \"30\",\n",
    "    \"traffic_sign_90.jpg\": \"30\",\n",
    "    \"traffic_sign_91.jpg\": \"30\",\n",
    "    \"traffic_sign_92.jpg\": \"30\",\n",
    "    \"traffic_sign_93.jpg\": \"30\",\n",
    "    \"traffic_sign_94.jpg\": \"30\",\n",
    "    \"traffic_sign_95.jpg\": \"stop\",\n",
    "    \"traffic_sign_96.jpg\": \"stop\",\n",
    "    \"traffic_sign_97.jpg\": \"stop\",\n",
    "    \"traffic_sign_98.jpg\": \"stop\",\n",
    "    \"traffic_sign_99.jpg\": \"stop\",\n",
    "    \"traffic_sign_100.jpg\": \"stop\",\n",
    "    \"traffic_sign_101.jpg\": \"stop\",\n",
    "    \"traffic_sign_102.jpg\": \"stop\",\n",
    "    \"traffic_sign_103.jpg\": \"stop\",\n",
    "    \"traffic_sign_104.jpg\": \"stop\",\n",
    "}"
   ],
   "id": "e4c533a75dd080f3",
   "outputs": [],
   "execution_count": 1
  }
 ],
 "metadata": {
  "kernelspec": {
   "name": "python3",
   "language": "python",
   "display_name": "Python 3 (ipykernel)"
  }
 },
 "nbformat": 5,
 "nbformat_minor": 9
}
